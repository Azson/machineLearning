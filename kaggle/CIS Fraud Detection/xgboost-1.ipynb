{
 "cells": [
  {
   "cell_type": "code",
   "execution_count": 1,
   "metadata": {},
   "outputs": [],
   "source": [
    "import pandas as pd\n",
    "import numpy as np\n",
    "import matplotlib.pyplot as plt\n",
    "import gc\n",
    "import pickle"
   ]
  },
  {
   "cell_type": "code",
   "execution_count": 2,
   "metadata": {},
   "outputs": [
    {
     "name": "stdout",
     "output_type": "stream",
     "text": [
      "df_all load finished\n"
     ]
    }
   ],
   "source": [
    "#use pickle file\n",
    "SPLIT_POINT = 590540\n",
    "\n",
    "\n",
    "with open('train_test_590540.pkl', 'rb') as f:\n",
    "    df_all_dy = pickle.load(f)\n",
    "    print(\"df_all load finished\")\n",
    "\n",
    "    \n",
    "df_train = df_all_dy[:SPLIT_POINT]\n",
    "\n",
    "df_test = df_all_dy[SPLIT_POINT:].reset_index()\n",
    "df_test = df_test.drop('isFraud')"
   ]
  },
  {
   "cell_type": "code",
   "execution_count": 3,
   "metadata": {},
   "outputs": [
    {
     "name": "stdout",
     "output_type": "stream",
     "text": [
      "<class 'pandas.core.frame.DataFrame'>\n",
      "RangeIndex: 590540 entries, 0 to 590539\n",
      "Columns: 267 entries, index to card6__nan\n",
      "dtypes: float16(187), float32(22), float64(1), int16(1), int32(2), int64(1), uint8(53)\n",
      "memory usage: 304.7 MB\n"
     ]
    }
   ],
   "source": [
    "df_train.info()"
   ]
  },
  {
   "cell_type": "code",
   "execution_count": 11,
   "metadata": {},
   "outputs": [
    {
     "name": "stdout",
     "output_type": "stream",
     "text": [
      "<class 'pandas.core.frame.DataFrame'>\n",
      "RangeIndex: 506691 entries, 590540 to 1097230\n",
      "Columns: 266 entries, index to card6__nan\n",
      "dtypes: float16(187), float32(22), int16(1), int32(2), int64(1), uint8(53)\n",
      "memory usage: 257.6 MB\n"
     ]
    }
   ],
   "source": [
    "df_test.info()"
   ]
  },
  {
   "cell_type": "code",
   "execution_count": null,
   "metadata": {},
   "outputs": [],
   "source": [
    "import xgboost as xgb\n",
    "\n",
    "clf = xgb.XGBClassifier(\n",
    "    n_estimators=500,\n",
    "    max_depth=9,\n",
    "    learning_rate=0.05,\n",
    "    subsample=0.9,\n",
    "    colsample_bytree=0.9,\n",
    "    missing=-999,\n",
    "    random_state=2019,\n",
    "    #tree_method='gpu_hist'  # THE MAGICAL PARAMETER\n",
    ")\n",
    "\n",
    "%time clf.fit(df_train.drop('isFraud', axis=1), df_train['isFraud'])"
   ]
  },
  {
   "cell_type": "code",
   "execution_count": null,
   "metadata": {},
   "outputs": [],
   "source": [
    "sample_submission['isFraud'] = clf.predict_proba(df_test)[:,1]\n",
    "sample_submission.to_csv('simple_xgboost-1.csv')"
   ]
  },
  {
   "cell_type": "code",
   "execution_count": null,
   "metadata": {},
   "outputs": [],
   "source": []
  }
 ],
 "metadata": {
  "kernelspec": {
   "display_name": "Python 3",
   "language": "python",
   "name": "python3"
  },
  "language_info": {
   "codemirror_mode": {
    "name": "ipython",
    "version": 3
   },
   "file_extension": ".py",
   "mimetype": "text/x-python",
   "name": "python",
   "nbconvert_exporter": "python",
   "pygments_lexer": "ipython3",
   "version": "3.7.3"
  }
 },
 "nbformat": 4,
 "nbformat_minor": 2
}
