{
 "cells": [
  {
   "cell_type": "code",
   "execution_count": 2,
   "metadata": {},
   "outputs": [],
   "source": [
    "import numpy as np\n",
    "import pandas as pd\n",
    "import matplotlib.pyplot as plt\n",
    "from scipy.special import expit"
   ]
  },
  {
   "cell_type": "code",
   "execution_count": 3,
   "metadata": {},
   "outputs": [],
   "source": [
    "class NeuralNetwork(object):\n",
    "    \n",
    "    def __init__(self, input_nodes, hidden_nodes, output_nodes, learning_rate):\n",
    "        \n",
    "        self.i_nodes = input_nodes\n",
    "        self.h_nodes = hidden_nodes\n",
    "        self.o_nodes = output_nodes\n",
    "        self.lr = learning_rate\n",
    "        \n",
    "        self.ih_weights = np.random.uniform(.0, pow(self.h_nodes, -0.5), (self.h_nodes, self.i_nodes))\n",
    "        self.ho_weights = np.random.uniform(.0, pow(self.o_nodes, -0.5), (self.o_nodes, self.h_nodes))\n",
    "        \n",
    "        self.activation_func = lambda x: expit(x)\n",
    "        \n",
    "    #forward propagation and back propagation\n",
    "    def train(self, input_list, true_list):\n",
    "        \n",
    "        inputs = np.array(input_list, ndmin=2).T\n",
    "        targets = np.array(true_list, ndmin=2).T\n",
    "        \n",
    "        hidden_inputs = np.dot(self.ih_weights, inputs)\n",
    "        hidden_outputs = self.activation_func(hidden_inputs)\n",
    "        \n",
    "        final_inputs = np.dot(self.ho_weights, hidden_outputs)\n",
    "        final_outputs = self.activation_func(final_inputs)\n",
    "        \n",
    "        #back propagation\n",
    "        output_errors = targets - final_outputs\n",
    "        hidden_errors =  np.dot(self.ho_weights.T, output_errors)\n",
    "        \n",
    "        self.ho_weights += self.lr * np.dot((output_errors * final_outputs * (1.0 - final_outputs)), \\\n",
    "                                            np.transpose(hidden_outputs))\n",
    "        self.ih_weights += self.lr * np.dot((hidden_errors * hidden_outputs * (1.0 - hidden_outputs)), \\\n",
    "                                           np.transpose(inputs))\n",
    "        \n",
    "        \n",
    "        pass\n",
    "    \n",
    "    \n",
    "    def query(self, input_list):\n",
    "        \n",
    "        inputs = np.array(input_list, ndmin=2).T\n",
    "        \n",
    "        hidden_inputs = np.dot(self.ih_weights, inputs)\n",
    "        hidden_outputs = self.activation_func(hidden_inputs)\n",
    "        \n",
    "        final_inputs = np.dot(self.ho_weights, hidden_outputs)\n",
    "        final_outputs = self.activation_func(final_inputs)\n",
    "        \n",
    "        return final_outputs\n",
    "        \n",
    "        "
   ]
  },
  {
   "cell_type": "code",
   "execution_count": 4,
   "metadata": {},
   "outputs": [],
   "source": [
    "INPUT_NODES = 3\n",
    "HIDDEN_NODES = 3\n",
    "OUTPUT_NODES = 3\n",
    "learning_rate = 0.5\n",
    "\n",
    "\n",
    "nn = NeuralNetwork(INPUT_NODES, HIDDEN_NODES, OUTPUT_NODES, learning_rate)"
   ]
  },
  {
   "cell_type": "code",
   "execution_count": 5,
   "metadata": {},
   "outputs": [
    {
     "data": {
      "text/plain": [
       "array([[0.64452572],\n",
       "       [0.69194175],\n",
       "       [0.67685968]])"
      ]
     },
     "execution_count": 5,
     "metadata": {},
     "output_type": "execute_result"
    }
   ],
   "source": [
    "nn.query([1.1, 2.1, 3.2])"
   ]
  },
  {
   "cell_type": "code",
   "execution_count": 6,
   "metadata": {},
   "outputs": [],
   "source": [
    "test_x = [\n",
    "    [1, 0, 0],\n",
    "    [0, 1, 0],\n",
    "    [1, 1, 0],\n",
    "    [0, 0, 0]\n",
    "]\n",
    "\n",
    "test_y = [\n",
    "    [1, 0, 0],\n",
    "    [1, 0, 0],\n",
    "    [0, 1, 0],\n",
    "    [0, 1, 0]\n",
    "]\n",
    "\n",
    "nn.train(test_x, test_y)"
   ]
  },
  {
   "cell_type": "code",
   "execution_count": 7,
   "metadata": {},
   "outputs": [],
   "source": [
    "need_length = 1000\n",
    "\n",
    "with open('data/mnist_test.csv', 'r') as f:\n",
    "    mnist_y = []\n",
    "    mnist_x = []\n",
    "    for i in range(need_length):\n",
    "        row = f.readline().split(',')\n",
    "        mnist_y.append(row[0])\n",
    "        mnist_x.append(row[1:])"
   ]
  },
  {
   "cell_type": "code",
   "execution_count": 8,
   "metadata": {},
   "outputs": [
    {
     "name": "stdout",
     "output_type": "stream",
     "text": [
      "label is 7\n",
      "pic show below:\n"
     ]
    },
    {
     "data": {
      "text/plain": [
       "<matplotlib.image.AxesImage at 0x126091fd0>"
      ]
     },
     "execution_count": 8,
     "metadata": {},
     "output_type": "execute_result"
    },
    {
     "data": {
      "image/png": "[encoded data removed]",
      "text/plain": [
       "<Figure size 432x288 with 1 Axes>"
      ]
     },
     "metadata": {
      "needs_background": "light"
     },
     "output_type": "display_data"
    }
   ],
   "source": [
    "label, image_arr = mnist_y[0], np.array(mnist_x[0], dtype=np.float).reshape((28, 28))\n",
    "\n",
    "print('label is {0}\\npic show below:'.format(label))\n",
    "plt.imshow(image_arr, cmap='Greys', interpolation='None')"
   ]
  },
  {
   "cell_type": "code",
   "execution_count": 9,
   "metadata": {},
   "outputs": [],
   "source": [
    "INPUT_NODES = 28*28\n",
    "HIDDEN_NODES = 100\n",
    "OUTPUT_NODES = 10\n",
    "learning_rate = 0.2\n",
    "\n",
    "EPOCHS = 5\n",
    "\n",
    "train_size = 900\n",
    "test_size = 100\n",
    "\n",
    "mnist_nn = NeuralNetwork(INPUT_NODES, HIDDEN_NODES, OUTPUT_NODES, learning_rate)\n",
    "\n",
    "for epoch in range(EPOCHS):\n",
    "    for i in range(train_size):\n",
    "\n",
    "        inputs = np.array(mnist_x[i], dtype=np.float) / 255 * 0.99 + 0.01\n",
    "        label = np.zeros(OUTPUT_NODES) + 0.01\n",
    "        label[int(mnist_y[i])] = 0.99\n",
    "\n",
    "        mnist_nn.train(inputs, label)"
   ]
  },
  {
   "cell_type": "code",
   "execution_count": 10,
   "metadata": {},
   "outputs": [
    {
     "name": "stdout",
     "output_type": "stream",
     "text": [
      "label is 9\n",
      "pic show below:\n"
     ]
    },
    {
     "data": {
      "text/plain": [
       "<matplotlib.image.AxesImage at 0x12663e048>"
      ]
     },
     "execution_count": 10,
     "metadata": {},
     "output_type": "execute_result"
    },
    {
     "data": {
      "image/png": "[encoded data removed]",
      "text/plain": [
       "<Figure size 432x288 with 1 Axes>"
      ]
     },
     "metadata": {
      "needs_background": "light"
     },
     "output_type": "display_data"
    }
   ],
   "source": [
    "label, image_arr = mnist_y[-1], np.array(mnist_x[-1], dtype=np.float).reshape((28, 28))\n",
    "\n",
    "print('label is {0}\\npic show below:'.format(label))\n",
    "plt.imshow(image_arr, cmap='Greys', interpolation='None')"
   ]
  },
  {
   "cell_type": "code",
   "execution_count": 11,
   "metadata": {},
   "outputs": [
    {
     "data": {
      "text/plain": [
       "array([[0.0189763 ],\n",
       "       [0.03566148],\n",
       "       [0.05092522],\n",
       "       [0.0046191 ],\n",
       "       [0.18370404],\n",
       "       [0.01526615],\n",
       "       [0.01750005],\n",
       "       [0.26150654],\n",
       "       [0.03395027],\n",
       "       [0.65538976]])"
      ]
     },
     "execution_count": 11,
     "metadata": {},
     "output_type": "execute_result"
    }
   ],
   "source": [
    "mnist_nn.query(np.array(mnist_x[-1], dtype=np.float) / 255 * 0.99 + 0.01)"
   ]
  },
  {
   "cell_type": "code",
   "execution_count": 12,
   "metadata": {},
   "outputs": [
    {
     "name": "stdout",
     "output_type": "stream",
     "text": [
      "true 8, pred 9\n",
      "true 2, pred 0\n",
      "true 2, pred 7\n",
      "true 3, pred 2\n",
      "true 2, pred 3\n",
      "true 9, pred 7\n",
      "true 6, pred 0\n",
      "true 3, pred 5\n",
      "true 1, pred 3\n",
      "true 5, pred 3\n",
      "true 8, pred 9\n",
      "true 3, pred 7\n",
      "true 6, pred 1\n",
      "true 2, pred 0\n",
      "true 3, pred 5\n",
      "true 8, pred 5\n",
      "true 5, pred 8\n",
      "true 4, pred 9\n",
      "true 2, pred 7\n",
      "true 8, pred 5\n",
      "error (numbers, rate) : ((20, 0.2))\n"
     ]
    }
   ],
   "source": [
    "def test_score():\n",
    "    err = 0\n",
    "    for i in range(test_size):\n",
    "        target = int(mnist_y[-i])\n",
    "        pred_prob = mnist_nn.query(np.array(mnist_x[-i], dtype=np.float) / 255 * 0.99 + 0.01)\n",
    "        pred = np.argmax(pred_prob)\n",
    "        \n",
    "        if target != pred:\n",
    "            print('true {0}, pred {1}'.format(target, pred))\n",
    "            err += 1\n",
    "    \n",
    "    return err, err/test_size\n",
    "\n",
    "print('error (numbers, rate) : ({0})'.format(test_score()))"
   ]
  },
  {
   "cell_type": "code",
   "execution_count": 13,
   "metadata": {},
   "outputs": [],
   "source": [
    "def train_test_split(X, y, rate=0.3):\n",
    "    \n",
    "    test_idx = np.random.choice(len(y), replace=False)\n",
    "    \n",
    "    pass"
   ]
  },
  {
   "cell_type": "code",
   "execution_count": 14,
   "metadata": {},
   "outputs": [],
   "source": [
    "def cal_accuration(target, pred):\n",
    "    err = 0\n",
    "    sz = len(target)\n",
    "    \n",
    "    for idx in range(sz):\n",
    "        if target[idx] != pred[idx]:\n",
    "            err += 1\n",
    "    \n",
    "    return err, err/sz"
   ]
  },
  {
   "cell_type": "code",
   "execution_count": 15,
   "metadata": {},
   "outputs": [],
   "source": [
    "def data_to_arr():\n",
    "    arr = []\n",
    "    \n",
    "    for i in range(train_size+test_size):\n",
    "\n",
    "        inputs = np.array(mnist_x[i], dtype=np.float) / 255 * 0.99 + 0.01\n",
    "        arr.append(inputs)\n",
    "    \n",
    "    return np.array(arr)\n",
    "\n",
    "\n",
    "data = data_to_arr()"
   ]
  },
  {
   "cell_type": "code",
   "execution_count": 18,
   "metadata": {},
   "outputs": [
    {
     "name": "stdout",
     "output_type": "stream",
     "text": [
      "error 17, error rate 0.16831683168316833\n"
     ]
    }
   ],
   "source": [
    "from sklearn.neighbors import KNeighborsClassifier\n",
    "\n",
    "\n",
    "def cmp_skl_knn(train_X, train_y, test_X, test_y):\n",
    "    model = KNeighborsClassifier(n_neighbors=3)\n",
    "    model.fit(train_X, train_y)\n",
    "    \n",
    "    pred_y = model.predict(test_X)\n",
    "    \n",
    "    err, err_rate = cal_accuration(test_y, pred_y)\n",
    "    \n",
    "    print(\"error {0}, error rate {1}\".format(err, err_rate))\n",
    "    \n",
    "    \n",
    "cmp_skl_knn(data[:train_size, :], mnist_y[:train_size], data[-test_size-1:, :], mnist_y[-test_size-1:])"
   ]
  },
  {
   "cell_type": "code",
   "execution_count": null,
   "metadata": {},
   "outputs": [],
   "source": [
    "# -*- coding: utf-8 -*-\n",
    "import torch\n",
    "\n",
    "dtype = torch.float\n",
    "device = torch.device(\"cpu\")\n",
    "# device = torch.device(\"cuda:0\") # Uncomment this to run on GPU\n",
    "\n",
    "# N is batch size; D_in is input dimension;\n",
    "# H is hidden dimension; D_out is output dimension.\n",
    "N, D_in, H, D_out = 64, 1000, 100, 10\n",
    "\n",
    "# Create random Tensors to hold input and outputs.\n",
    "# Setting requires_grad=False indicates that we do not need to compute gradients\n",
    "# with respect to these Tensors during the backward pass.\n",
    "x = torch.randn(N, D_in, device=device, dtype=dtype)\n",
    "y = torch.randn(N, D_out, device=device, dtype=dtype)\n",
    "\n",
    "# Create random Tensors for weights.\n",
    "# Setting requires_grad=True indicates that we want to compute gradients with\n",
    "# respect to these Tensors during the backward pass.\n",
    "w1 = torch.randn(D_in, H, device=device, dtype=dtype, requires_grad=True)\n",
    "w2 = torch.randn(H, D_out, device=device, dtype=dtype, requires_grad=True)\n",
    "\n",
    "learning_rate = 1e-6\n",
    "for t in range(500):\n",
    "    # Forward pass: compute predicted y using operations on Tensors; these\n",
    "    # are exactly the same operations we used to compute the forward pass using\n",
    "    # Tensors, but we do not need to keep references to intermediate values since\n",
    "    # we are not implementing the backward pass by hand.\n",
    "    y_pred = x.mm(w1).clamp(min=0).mm(w2)\n",
    "\n",
    "    # Compute and print loss using operations on Tensors.\n",
    "    # Now loss is a Tensor of shape (1,)\n",
    "    # loss.item() gets the scalar value held in the loss.\n",
    "    loss = (y_pred - y).pow(2).sum()\n",
    "    if t % 100 == 99:\n",
    "        print(t, loss.item())\n",
    "\n",
    "    # Use autograd to compute the backward pass. This call will compute the\n",
    "    # gradient of loss with respect to all Tensors with requires_grad=True.\n",
    "    # After this call w1.grad and w2.grad will be Tensors holding the gradient\n",
    "    # of the loss with respect to w1 and w2 respectively.\n",
    "    loss.backward()\n",
    "\n",
    "    # Manually update weights using gradient descent. Wrap in torch.no_grad()\n",
    "    # because weights have requires_grad=True, but we don't need to track this\n",
    "    # in autograd.\n",
    "    # An alternative way is to operate on weight.data and weight.grad.data.\n",
    "    # Recall that tensor.data gives a tensor that shares the storage with\n",
    "    # tensor, but doesn't track history.\n",
    "    # You can also use torch.optim.SGD to achieve this.\n",
    "    with torch.no_grad():\n",
    "        w1 -= learning_rate * w1.grad\n",
    "        w2 -= learning_rate * w2.grad\n",
    "\n",
    "        # Manually zero the gradients after updating weights\n",
    "        w1.grad.zero_()\n",
    "        w2.grad.zero_()"
   ]
  }
 ],
 "metadata": {
  "kernelspec": {
   "display_name": "Python 3",
   "language": "python",
   "name": "python3"
  },
  "language_info": {
   "codemirror_mode": {
    "name": "ipython",
    "version": 3
   },
   "file_extension": ".py",
   "mimetype": "text/x-python",
   "name": "python",
   "nbconvert_exporter": "python",
   "pygments_lexer": "ipython3",
   "version": "3.7.3"
  }
 },
 "nbformat": 4,
 "nbformat_minor": 2
}
