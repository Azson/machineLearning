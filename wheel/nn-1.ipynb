{
 "cells": [
  {
   "cell_type": "code",
   "execution_count": 1,
   "metadata": {},
   "outputs": [],
   "source": [
    "import numpy as np\n",
    "import pandas as pd\n",
    "import matplotlib.pyplot as plt\n",
    "from scipy.special import expit"
   ]
  },
  {
   "cell_type": "code",
   "execution_count": 2,
   "metadata": {},
   "outputs": [],
   "source": [
    "class NeuralNetwork(object):\n",
    "    \n",
    "    def __init__(self, input_nodes, hidden_nodes, output_nodes, learning_rate):\n",
    "        \n",
    "        self.i_nodes = input_nodes\n",
    "        self.h_nodes = hidden_nodes\n",
    "        self.o_nodes = output_nodes\n",
    "        self.lr = learning_rate\n",
    "        \n",
    "        self.ih_weights = np.random.uniform(.0, pow(self.h_nodes, -0.5), (self.h_nodes, self.i_nodes))\n",
    "        self.ho_weights = np.random.uniform(.0, pow(self.o_nodes, -0.5), (self.o_nodes, self.h_nodes))\n",
    "        \n",
    "        self.activation_func = lambda x: expit(x)\n",
    "        \n",
    "    #forward propagation and back propagation\n",
    "    def train(self, input_list, true_list):\n",
    "        \n",
    "        inputs = np.array(input_list, ndmin=2).T\n",
    "        targets = np.array(true_list, ndmin=2).T\n",
    "        \n",
    "        hidden_inputs = np.dot(self.ih_weights, inputs)\n",
    "        hidden_outputs = self.activation_func(hidden_inputs)\n",
    "        \n",
    "        final_inputs = np.dot(self.ho_weights, hidden_outputs)\n",
    "        final_outputs = self.activation_func(final_inputs)\n",
    "        \n",
    "        #back propagation\n",
    "        output_errors = targets - final_outputs\n",
    "        hidden_errors =  np.dot(self.ho_weights.T, output_errors)\n",
    "        \n",
    "        self.ho_weights += self.lr * np.dot((output_errors * final_outputs * (1.0 - final_outputs)), \\\n",
    "                                            np.transpose(hidden_outputs))\n",
    "        self.ih_weights += self.lr * np.dot((hidden_errors * hidden_outputs * (1.0 - hidden_outputs)), \\\n",
    "                                           np.transpose(inputs))\n",
    "        \n",
    "        \n",
    "        pass\n",
    "    \n",
    "    \n",
    "    def query(self, input_list):\n",
    "        \n",
    "        inputs = np.array(input_list, ndmin=2).T\n",
    "        \n",
    "        hidden_inputs = np.dot(self.ih_weights, inputs)\n",
    "        hidden_outputs = self.activation_func(hidden_inputs)\n",
    "        \n",
    "        final_inputs = np.dot(self.ho_weights, hidden_outputs)\n",
    "        final_outputs = self.activation_func(final_inputs)\n",
    "        \n",
    "        return final_outputs\n",
    "        \n",
    "        "
   ]
  },
  {
   "cell_type": "code",
   "execution_count": 3,
   "metadata": {},
   "outputs": [],
   "source": [
    "INPUT_NODES = 3\n",
    "HIDDEN_NODES = 3\n",
    "OUTPUT_NODES = 3\n",
    "learning_rate = 0.5\n",
    "\n",
    "\n",
    "nn = NeuralNetwork(INPUT_NODES, HIDDEN_NODES, OUTPUT_NODES, learning_rate)"
   ]
  },
  {
   "cell_type": "code",
   "execution_count": 4,
   "metadata": {},
   "outputs": [
    {
     "data": {
      "text/plain": [
       "array([[0.69424106],\n",
       "       [0.73910843],\n",
       "       [0.6636021 ]])"
      ]
     },
     "execution_count": 4,
     "metadata": {},
     "output_type": "execute_result"
    }
   ],
   "source": [
    "nn.query([1.1, 2.1, 3.2])"
   ]
  },
  {
   "cell_type": "code",
   "execution_count": 5,
   "metadata": {},
   "outputs": [],
   "source": [
    "test_x = [\n",
    "    [1, 0, 0],\n",
    "    [0, 1, 0],\n",
    "    [1, 1, 0],\n",
    "    [0, 0, 0]\n",
    "]\n",
    "\n",
    "test_y = [\n",
    "    [1, 0, 0],\n",
    "    [1, 0, 0],\n",
    "    [0, 1, 0],\n",
    "    [0, 1, 0]\n",
    "]\n",
    "\n",
    "nn.train(test_x, test_y)"
   ]
  },
  {
   "cell_type": "code",
   "execution_count": 6,
   "metadata": {},
   "outputs": [],
   "source": [
    "need_length = 1000\n",
    "\n",
    "with open('data/mnist_test.csv', 'r') as f:\n",
    "    mnist_y = []\n",
    "    mnist_x = []\n",
    "    for i in range(need_length):\n",
    "        row = f.readline().split(',')\n",
    "        mnist_y.append(row[0])\n",
    "        mnist_x.append(row[1:])"
   ]
  },
  {
   "cell_type": "code",
   "execution_count": 7,
   "metadata": {},
   "outputs": [
    {
     "name": "stdout",
     "output_type": "stream",
     "text": [
      "label is 7\n",
      "pic show below:\n"
     ]
    },
    {
     "data": {
      "text/plain": [
       "<matplotlib.image.AxesImage at 0x130742f28>"
      ]
     },
     "execution_count": 7,
     "metadata": {},
     "output_type": "execute_result"
    },
    {
     "data": {
      "image/png": "[encoded data removed]",
      "text/plain": [
       "<Figure size 432x288 with 1 Axes>"
      ]
     },
     "metadata": {
      "needs_background": "light"
     },
     "output_type": "display_data"
    }
   ],
   "source": [
    "label, image_arr = mnist_y[0], np.array(mnist_x[0], dtype=np.float).reshape((28, 28))\n",
    "\n",
    "print('label is {0}\\npic show below:'.format(label))\n",
    "plt.imshow(image_arr, cmap='Greys', interpolation='None')"
   ]
  },
  {
   "cell_type": "code",
   "execution_count": 8,
   "metadata": {},
   "outputs": [],
   "source": [
    "INPUT_NODES = 28*28\n",
    "HIDDEN_NODES = 100\n",
    "OUTPUT_NODES = 10\n",
    "learning_rate = 0.2\n",
    "\n",
    "EPOCHS = 5\n",
    "\n",
    "train_size = 900\n",
    "test_size = 100\n",
    "\n",
    "mnist_nn = NeuralNetwork(INPUT_NODES, HIDDEN_NODES, OUTPUT_NODES, learning_rate)\n",
    "\n",
    "for epoch in range(EPOCHS):\n",
    "    for i in range(train_size):\n",
    "\n",
    "        inputs = np.array(mnist_x[i], dtype=np.float) / 255 * 0.99 + 0.01\n",
    "        label = np.zeros(OUTPUT_NODES) + 0.01\n",
    "        label[int(mnist_y[i])] = 0.99\n",
    "\n",
    "        mnist_nn.train(inputs, label)"
   ]
  },
  {
   "cell_type": "code",
   "execution_count": 9,
   "metadata": {},
   "outputs": [
    {
     "name": "stdout",
     "output_type": "stream",
     "text": [
      "label is 9\n",
      "pic show below:\n"
     ]
    },
    {
     "data": {
      "text/plain": [
       "<matplotlib.image.AxesImage at 0x130cee048>"
      ]
     },
     "execution_count": 9,
     "metadata": {},
     "output_type": "execute_result"
    },
    {
     "data": {
      "image/png": "[encoded data removed]",
      "text/plain": [
       "<Figure size 432x288 with 1 Axes>"
      ]
     },
     "metadata": {
      "needs_background": "light"
     },
     "output_type": "display_data"
    }
   ],
   "source": [
    "label, image_arr = mnist_y[-1], np.array(mnist_x[-1], dtype=np.float).reshape((28, 28))\n",
    "\n",
    "print('label is {0}\\npic show below:'.format(label))\n",
    "plt.imshow(image_arr, cmap='Greys', interpolation='None')"
   ]
  },
  {
   "cell_type": "code",
   "execution_count": 10,
   "metadata": {},
   "outputs": [
    {
     "data": {
      "text/plain": [
       "array([[0.01690708],\n",
       "       [0.01756821],\n",
       "       [0.01931665],\n",
       "       [0.01464005],\n",
       "       [0.13822195],\n",
       "       [0.00904636],\n",
       "       [0.01675017],\n",
       "       [0.43178942],\n",
       "       [0.08821457],\n",
       "       [0.46657359]])"
      ]
     },
     "execution_count": 10,
     "metadata": {},
     "output_type": "execute_result"
    }
   ],
   "source": [
    "mnist_nn.query(np.array(mnist_x[-1], dtype=np.float) / 255 * 0.99 + 0.01)"
   ]
  },
  {
   "cell_type": "code",
   "execution_count": 11,
   "metadata": {},
   "outputs": [
    {
     "name": "stdout",
     "output_type": "stream",
     "text": [
      "true 3, pred 8\n",
      "true 2, pred 7\n",
      "true 3, pred 8\n",
      "true 3, pred 8\n",
      "true 2, pred 7\n",
      "true 6, pred 0\n",
      "true 4, pred 9\n",
      "true 7, pred 2\n",
      "true 8, pred 9\n",
      "true 3, pred 8\n",
      "true 2, pred 0\n",
      "true 3, pred 5\n",
      "true 2, pred 7\n",
      "true 7, pred 9\n",
      "true 4, pred 9\n",
      "true 4, pred 9\n",
      "error (numbers, rate) : ((16, 0.16))\n"
     ]
    }
   ],
   "source": [
    "def test_score():\n",
    "    err = 0\n",
    "    for i in range(test_size):\n",
    "        target = int(mnist_y[-i])\n",
    "        pred_prob = mnist_nn.query(np.array(mnist_x[-i], dtype=np.float) / 255 * 0.99 + 0.01)\n",
    "        pred = np.argmax(pred_prob)\n",
    "        \n",
    "        if target != pred:\n",
    "            print('true {0}, pred {1}'.format(target, pred))\n",
    "            err += 1\n",
    "    \n",
    "    return err, err/test_size\n",
    "\n",
    "print('error (numbers, rate) : ({0})'.format(test_score()))"
   ]
  },
  {
   "cell_type": "code",
   "execution_count": 12,
   "metadata": {},
   "outputs": [],
   "source": [
    "def train_test_split(X, y, rate=0.3):\n",
    "    \n",
    "    test_idx = np.random.choice(len(y), replace=False)\n",
    "    \n",
    "    pass"
   ]
  },
  {
   "cell_type": "code",
   "execution_count": 13,
   "metadata": {},
   "outputs": [],
   "source": [
    "def cal_accuration(target, pred):\n",
    "    err = 0\n",
    "    sz = len(target)\n",
    "    \n",
    "    for idx in range(sz):\n",
    "        if target[idx] != pred[idx]:\n",
    "            err += 1\n",
    "    \n",
    "    return err, err/sz"
   ]
  },
  {
   "cell_type": "code",
   "execution_count": 14,
   "metadata": {},
   "outputs": [],
   "source": [
    "def data_to_arr():\n",
    "    ip_arr = []\n",
    "    out_arr = []\n",
    "    for i in range(train_size+test_size):\n",
    "\n",
    "        inputs = np.array(mnist_x[i], dtype=np.double) / 255 * 0.99 + 0.01\n",
    "        \n",
    "        label = np.zeros(OUTPUT_NODES, dtype=np.double) + 0.01\n",
    "        label[int(mnist_y[i])] = 0.99\n",
    "        \n",
    "        ip_arr.append(inputs)\n",
    "        out_arr.append(label)\n",
    "    \n",
    "    return np.array(ip_arr), np.array(out_arr)\n",
    "\n",
    "\n",
    "data_x, data_y = data_to_arr()"
   ]
  },
  {
   "cell_type": "code",
   "execution_count": 15,
   "metadata": {},
   "outputs": [
    {
     "name": "stdout",
     "output_type": "stream",
     "text": [
      "error 17, error rate 0.16831683168316833\n"
     ]
    }
   ],
   "source": [
    "from sklearn.neighbors import KNeighborsClassifier\n",
    "\n",
    "\n",
    "def cmp_skl_knn(train_X, train_y, test_X, test_y):\n",
    "    model = KNeighborsClassifier(n_neighbors=3)\n",
    "    model.fit(train_X, train_y)\n",
    "    \n",
    "    pred_y = model.predict(test_X)\n",
    "    \n",
    "    err, err_rate = cal_accuration(test_y, pred_y)\n",
    "    \n",
    "    print(\"error {0}, error rate {1}\".format(err, err_rate))\n",
    "    \n",
    "    \n",
    "cmp_skl_knn(data_x[:train_size, :], mnist_y[:train_size], data_x[-test_size-1:, :], mnist_y[-test_size-1:])"
   ]
  },
  {
   "cell_type": "code",
   "execution_count": 139,
   "metadata": {},
   "outputs": [
    {
     "name": "stdout",
     "output_type": "stream",
     "text": [
      "pass anotation\n"
     ]
    }
   ],
   "source": [
    "# -*- coding: utf-8 -*-\n",
    "import torch\n",
    "\n",
    "class torchNN(object):\n",
    "\n",
    "    def __init__(self, input_nodes, hidden_nodes, output_nodes, learning_rate=0.5, batch=64):\n",
    "\n",
    "        self.BATCH, self.D_in, self.H, self.D_out = batch, input_nodes, hidden_nodes, output_nodes\n",
    "\n",
    "        self.lr = learning_rate\n",
    "\n",
    "        dtype = torch.float\n",
    "        device = torch.device(\"cpu\")\n",
    "\n",
    "        self.w1 = torch.randn(self.D_in, self.H, device=device, dtype=torch.float64, requires_grad=True)\n",
    "        self.w2 = torch.randn(self.H, self.D_out, device=device, dtype=torch.float64, requires_grad=True)\n",
    "\n",
    "        self.activation_fuc = torch.sigmoid#torch.softmax  使用softmax时要指定dim\n",
    "\n",
    "        self.loss_func = lambda x, y: (x - y).pow(2).sum().mean()\n",
    "\n",
    "    def train(self, data_x, data_y, EPOCHS=500):\n",
    "\n",
    "        # x = torch.from_numpy(data_x[:train_size, :])\n",
    "        # y = torch.from_numpy(data_y[:train_size, :])\n",
    "        x = torch.from_numpy(data_x)\n",
    "        y = torch.from_numpy(data_y)\n",
    "        \n",
    "        for t in range(EPOCHS):\n",
    "            pre = 0\n",
    "            for bt in range(int(x.shape[0] / self.BATCH)):\n",
    "                # Forward pass: compute predicted y using operations on Tensors; these\n",
    "                # are exactly the same operations we used to compute the forward pass using\n",
    "                # Tensors, but we do not need to keep references to intermediate values since\n",
    "                # we are not implementing the backward pass by hand.\n",
    "                y_pred = self.activation_fuc(self.activation_fuc(x[pre:bt * self.BATCH, :] \\\n",
    "                                                                 .mm(self.w1).clamp(min=0)).mm(self.w2))\n",
    "\n",
    "                # Compute and print loss using operations on Tensors.\n",
    "                # Now loss is a Tensor of shape (1,)\n",
    "                # loss.item() gets the scalar value held in the loss.\n",
    "                loss = self.loss_func(y_pred, y[pre:bt * self.BATCH, :])\n",
    "\n",
    "                # Use autograd to compute the backward pass. This call will compute the\n",
    "                # gradient of loss with respect to all Tensors with requires_grad=True.\n",
    "                # After this call w1.grad and w2.grad will be Tensors holding the gradient\n",
    "                # of the loss with respect to w1 and w2 respectively.\n",
    "                loss.backward()\n",
    "\n",
    "                # Manually update weights using gradient descent. Wrap in torch.no_grad()\n",
    "                # because weights have requires_grad=True, but we don't need to track this\n",
    "                # in autograd.\n",
    "                # An alternative way is to operate on weight.data and weight.grad.data.\n",
    "                # Recall that tensor.data gives a tensor that shares the storage with\n",
    "                # tensor, but doesn't track history.\n",
    "                # You can also use torch.optim.SGD to achieve this.\n",
    "                with torch.no_grad():\n",
    "                    self.w1 -= self.lr * self.w1.grad\n",
    "                    self.w2 -= self.lr * self.w2.grad\n",
    "\n",
    "                    # Manually zero the gradients after updating weights\n",
    "                    self.w1.grad.zero_()\n",
    "                    self.w2.grad.zero_()\n",
    "\n",
    "                pre = bt * self.BATCH\n",
    "            if t % 100 == 99:\n",
    "                print(t, loss.item())\n",
    "\n",
    "        pass\n",
    "\n",
    "    def query_class(self, data_x):\n",
    "\n",
    "        y_pred = self.query_prob(data_x)\n",
    "\n",
    "        return y_pred.argmax(dim=1)\n",
    "\n",
    "    def query_prob(self, data_x):\n",
    "        x = torch.from_numpy(data_x)\n",
    "        y = torch.from_numpy(data_y)\n",
    "\n",
    "        y_pred = x.mm(self.w1).clamp(min=0).mm(self.w2)\n",
    "\n",
    "        return y_pred\n",
    "\n",
    "    def cal_score(self, targets, pred):\n",
    "\n",
    "        #print('targets:\\n{0}'.format(targets))\n",
    "        #print('pred:\\n{0}'.format(pred))\n",
    "\n",
    "        return cal_accuration(targets, pred)\n",
    "\n",
    "\n",
    "    \n",
    "'''\n",
    "\n",
    "# device = torch.device(\"cuda:0\") # Uncomment this to run on GPU\n",
    "\n",
    "# N is batch size; D_in is input dimension;\n",
    "# H is hidden dimension; D_out is output dimension.\n",
    "N, D_in, H, D_out = 64, INPUT_NODES, HIDDEN_NODES, OUTPUT_NODES\n",
    "\n",
    "# Create random Tensors to hold input and outputs.\n",
    "# Setting requires_grad=False indicates that we do not need to compute gradients\n",
    "# with respect to these Tensors during the backward pass.\n",
    "x = torch.from_numpy(data_x[:train_size, :])\n",
    "y = torch.from_numpy(data_y[:train_size, :])\n",
    "#x = torch.randn(N, D_in, device=device, dtype=dtype)\n",
    "#y = torch.randn(N, D_out, device=device, dtype=dtype)\n",
    "\n",
    "# Create random Tensors for weights.\n",
    "# Setting requires_grad=True indicates that we want to compute gradients with\n",
    "# respect to these Tensors during the backward pass.\n",
    "#注意调节dtype类型与x，y一致\n",
    "w1 = torch.randn(D_in, H, device=device, dtype=torch.float64, requires_grad=True)\n",
    "w2 = torch.randn(H, D_out, device=device, dtype=torch.float64, requires_grad=True)\n",
    "\n",
    "learning_rate = 1e-6\n",
    "for t in range(500):\n",
    "    # Forward pass: compute predicted y using operations on Tensors; these\n",
    "    # are exactly the same operations we used to compute the forward pass using\n",
    "    # Tensors, but we do not need to keep references to intermediate values since\n",
    "    # we are not implementing the backward pass by hand.\n",
    "    y_pred = x.mm(w1).clamp(min=0).mm(w2)\n",
    "\n",
    "    # Compute and print loss using operations on Tensors.\n",
    "    # Now loss is a Tensor of shape (1,)\n",
    "    # loss.item() gets the scalar value held in the loss.\n",
    "    loss = (y_pred - y).pow(2).sum()\n",
    "    if t % 100 == 99:\n",
    "        print(t, loss.item())\n",
    "\n",
    "    # Use autograd to compute the backward pass. This call will compute the\n",
    "    # gradient of loss with respect to all Tensors with requires_grad=True.\n",
    "    # After this call w1.grad and w2.grad will be Tensors holding the gradient\n",
    "    # of the loss with respect to w1 and w2 respectively.\n",
    "    loss.backward()\n",
    "\n",
    "    # Manually update weights using gradient descent. Wrap in torch.no_grad()\n",
    "    # because weights have requires_grad=True, but we don't need to track this\n",
    "    # in autograd.\n",
    "    # An alternative way is to operate on weight.data and weight.grad.data.\n",
    "    # Recall that tensor.data gives a tensor that shares the storage with\n",
    "    # tensor, but doesn't track history.\n",
    "    # You can also use torch.optim.SGD to achieve this.\n",
    "    with torch.no_grad():\n",
    "        w1 -= learning_rate * w1.grad\n",
    "        w2 -= learning_rate * w2.grad\n",
    "\n",
    "        # Manually zero the gradients after updating weights\n",
    "        w1.grad.zero_()\n",
    "        w2.grad.zero_()\n",
    "        \n",
    "'''\n",
    "\n",
    "print('pass anotation')"
   ]
  },
  {
   "cell_type": "code",
   "execution_count": 140,
   "metadata": {},
   "outputs": [
    {
     "name": "stdout",
     "output_type": "stream",
     "text": [
      "99 112.94060754134237\n",
      "199 12.839746027717098\n",
      "299 2.9455860840117385\n",
      "399 1.5502047001618022\n",
      "499 1.0369493476717038\n",
      "599 0.815565787257189\n",
      "699 0.6220625771328351\n",
      "799 0.5257240953014325\n",
      "899 0.4268887599695928\n",
      "999 0.3593803392154442\n"
     ]
    }
   ],
   "source": [
    "t_nn = torchNN(INPUT_NODES, HIDDEN_NODES, OUTPUT_NODES, 0.01, 100)\n",
    "\n",
    "t_nn.train(data_x[:train_size, :], data_y[:train_size, :], 1000)"
   ]
  },
  {
   "cell_type": "code",
   "execution_count": 89,
   "metadata": {},
   "outputs": [
    {
     "data": {
      "text/plain": [
       "784"
      ]
     },
     "execution_count": 89,
     "metadata": {},
     "output_type": "execute_result"
    }
   ],
   "source": [
    "INPUT_NODES"
   ]
  },
  {
   "cell_type": "code",
   "execution_count": 141,
   "metadata": {},
   "outputs": [
    {
     "data": {
      "text/plain": [
       "tensor([[ 0.5712, -0.9409,  1.0245,  ...,  1.1481, -0.9732, -0.7683],\n",
       "        [ 0.0893, -0.5080, -0.3244,  ...,  0.2482,  0.5742, -1.5725],\n",
       "        [-0.1938,  1.0782,  1.3841,  ..., -1.1190, -0.2287,  0.9928],\n",
       "        ...,\n",
       "        [-0.5748,  1.1317, -0.4716,  ...,  0.7497,  0.7375, -2.4411],\n",
       "        [-0.0032,  0.8854, -0.5419,  ..., -0.9716, -0.6121,  0.6318],\n",
       "        [-1.4669,  0.0612,  1.8497,  ...,  1.5659,  0.3883, -0.4293]],\n",
       "       dtype=torch.float64, requires_grad=True)"
      ]
     },
     "execution_count": 141,
     "metadata": {},
     "output_type": "execute_result"
    }
   ],
   "source": [
    "t_nn.w1"
   ]
  },
  {
   "cell_type": "code",
   "execution_count": 113,
   "metadata": {},
   "outputs": [
    {
     "data": {
      "text/plain": [
       "tensor([[-1.7642e+02, -5.3258e+01,  1.7015e+02, -9.8297e+00,  1.7220e+01,\n",
       "         -6.7392e+01,  4.1157e+01,  1.6134e+02, -3.4256e+01, -7.3320e+01],\n",
       "        [-2.5804e+02, -3.5994e+01,  2.1984e+02, -4.1956e+01,  1.0050e+01,\n",
       "          1.8289e+02, -1.0554e+02,  3.4350e+01,  1.0980e+02, -9.0497e+01],\n",
       "        [-1.7783e+02, -1.3282e+02,  5.8818e+01,  4.2387e+01,  6.4154e+01,\n",
       "         -1.1165e+02,  8.7715e+01,  1.4058e+02,  9.6029e+01,  3.4567e+01],\n",
       "        [ 2.0007e+01, -1.1693e+02,  5.1597e+01, -1.5646e+01, -3.5673e+01,\n",
       "          1.1998e+02, -4.1613e+00,  1.5198e+02, -2.7694e+01, -1.4781e+02],\n",
       "        [-1.4635e+02,  4.9652e+01,  2.3465e+01, -3.5986e+00,  1.9863e+01,\n",
       "          4.6024e+01, -1.1523e+01,  4.4960e+01,  5.6759e+01, -7.4955e+01],\n",
       "        [ 1.6551e+01, -1.6748e+02,  3.0366e+02, -1.4884e+02, -7.1778e+01,\n",
       "         -9.8943e+00,  2.3641e+02,  2.0602e+02, -1.9151e+01, -2.3881e+02],\n",
       "        [-1.2839e+02, -4.6448e+01,  3.0525e+02, -3.5362e+01, -1.0262e+02,\n",
       "          2.6968e+01,  1.2211e+02,  2.9145e+01,  6.6916e+01, -1.3741e+02],\n",
       "        [ 1.6186e+02, -6.3285e+01,  6.8227e+00, -1.0354e+02, -1.1575e+02,\n",
       "          2.9687e+02,  8.3632e+00, -5.4971e+01, -1.6513e+01, -1.4274e+02],\n",
       "        [-7.8675e+01, -2.1616e+02, -5.5293e+01,  2.6804e-01,  4.7832e+00,\n",
       "          1.8763e+02, -3.5163e+01,  9.9472e+01,  1.0020e+02, -4.0261e+00],\n",
       "        [-1.6774e+02, -1.1220e+02,  1.3932e+02, -9.9392e+00,  2.4897e+01,\n",
       "         -4.0078e+01,  8.4860e+01,  8.5700e+01,  4.8187e+01,  1.8387e+01]],\n",
       "       dtype=torch.float64, grad_fn=<MmBackward>)"
      ]
     },
     "execution_count": 113,
     "metadata": {},
     "output_type": "execute_result"
    }
   ],
   "source": [
    "t_nn.query_prob(data_x[-10:, :])"
   ]
  },
  {
   "cell_type": "code",
   "execution_count": 142,
   "metadata": {
    "scrolled": true
   },
   "outputs": [
    {
     "data": {
      "text/plain": [
       "(29, 0.29)"
      ]
     },
     "execution_count": 142,
     "metadata": {},
     "output_type": "execute_result"
    }
   ],
   "source": [
    "t_nn.cal_score(data_y[train_size:, :].argmax(1), t_nn.query_class(data_x[train_size:, :]))"
   ]
  },
  {
   "cell_type": "code",
   "execution_count": 143,
   "metadata": {},
   "outputs": [
    {
     "data": {
      "text/plain": [
       "(159, 0.17666666666666667)"
      ]
     },
     "execution_count": 143,
     "metadata": {},
     "output_type": "execute_result"
    }
   ],
   "source": [
    "t_nn.cal_score(data_y[:train_size, :].argmax(1), t_nn.query_class(data_x[:train_size, :]))"
   ]
  },
  {
   "cell_type": "code",
   "execution_count": 29,
   "metadata": {},
   "outputs": [
    {
     "data": {
      "text/plain": [
       "array([[0.01, 0.01, 0.01, ..., 0.99, 0.01, 0.01],\n",
       "       [0.01, 0.01, 0.99, ..., 0.01, 0.01, 0.01],\n",
       "       [0.01, 0.99, 0.01, ..., 0.01, 0.01, 0.01],\n",
       "       ...,\n",
       "       [0.99, 0.01, 0.01, ..., 0.01, 0.01, 0.01],\n",
       "       [0.01, 0.01, 0.01, ..., 0.01, 0.99, 0.01],\n",
       "       [0.01, 0.01, 0.01, ..., 0.01, 0.01, 0.99]])"
      ]
     },
     "execution_count": 29,
     "metadata": {},
     "output_type": "execute_result"
    }
   ],
   "source": [
    "data_y"
   ]
  },
  {
   "cell_type": "code",
   "execution_count": 26,
   "metadata": {},
   "outputs": [
    {
     "data": {
      "text/plain": [
       "torch.float64"
      ]
     },
     "execution_count": 26,
     "metadata": {},
     "output_type": "execute_result"
    }
   ],
   "source": [
    "x.dtype"
   ]
  },
  {
   "cell_type": "code",
   "execution_count": 18,
   "metadata": {},
   "outputs": [
    {
     "ename": "RuntimeError",
     "evalue": "Expected object of scalar type Double but got scalar type Float for argument #2 'mat2'",
     "output_type": "error",
     "traceback": [
      "\u001b[0;31m---------------------------------------------------------------------------\u001b[0m",
      "\u001b[0;31mRuntimeError\u001b[0m                              Traceback (most recent call last)",
      "\u001b[0;32m<ipython-input-18-dc9ee049eb05>\u001b[0m in \u001b[0;36m<module>\u001b[0;34m\u001b[0m\n\u001b[0;32m----> 1\u001b[0;31m \u001b[0mx\u001b[0m\u001b[0;34m.\u001b[0m\u001b[0mmm\u001b[0m\u001b[0;34m(\u001b[0m\u001b[0mw1\u001b[0m\u001b[0;34m)\u001b[0m\u001b[0;34m\u001b[0m\u001b[0;34m\u001b[0m\u001b[0m\n\u001b[0m",
      "\u001b[0;31mRuntimeError\u001b[0m: Expected object of scalar type Double but got scalar type Float for argument #2 'mat2'"
     ]
    }
   ],
   "source": [
    "x.mm(w1)"
   ]
  },
  {
   "cell_type": "code",
   "execution_count": 27,
   "metadata": {},
   "outputs": [
    {
     "data": {
      "text/plain": [
       "torch.float32"
      ]
     },
     "execution_count": 27,
     "metadata": {},
     "output_type": "execute_result"
    }
   ],
   "source": [
    "w1.dtype"
   ]
  },
  {
   "cell_type": "code",
   "execution_count": 51,
   "metadata": {},
   "outputs": [
    {
     "ename": "TypeError",
     "evalue": "softmax() missing 1 required positional arguments: \"dim\"",
     "output_type": "error",
     "traceback": [
      "\u001b[0;31m---------------------------------------------------------------------------\u001b[0m",
      "\u001b[0;31mTypeError\u001b[0m                                 Traceback (most recent call last)",
      "\u001b[0;32m<ipython-input-51-0a8995ec4c60>\u001b[0m in \u001b[0;36m<module>\u001b[0;34m\u001b[0m\n\u001b[0;32m----> 1\u001b[0;31m \u001b[0mtorch\u001b[0m\u001b[0;34m.\u001b[0m\u001b[0msoftmax\u001b[0m\u001b[0;34m(\u001b[0m\u001b[0mx\u001b[0m\u001b[0;34m)\u001b[0m\u001b[0;34m\u001b[0m\u001b[0;34m\u001b[0m\u001b[0m\n\u001b[0m",
      "\u001b[0;31mTypeError\u001b[0m: softmax() missing 1 required positional arguments: \"dim\""
     ]
    }
   ],
   "source": [
    "torch.softmax(x)"
   ]
  },
  {
   "cell_type": "code",
   "execution_count": null,
   "metadata": {},
   "outputs": [],
   "source": []
  }
 ],
 "metadata": {
  "kernelspec": {
   "display_name": "Python 3",
   "language": "python",
   "name": "python3"
  },
  "language_info": {
   "codemirror_mode": {
    "name": "ipython",
    "version": 3
   },
   "file_extension": ".py",
   "mimetype": "text/x-python",
   "name": "python",
   "nbconvert_exporter": "python",
   "pygments_lexer": "ipython3",
   "version": "3.7.3"
  }
 },
 "nbformat": 4,
 "nbformat_minor": 2
}
