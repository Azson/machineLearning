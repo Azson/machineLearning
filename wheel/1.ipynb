{
 "cells": [
  {
   "cell_type": "code",
   "execution_count": 1,
   "metadata": {},
   "outputs": [],
   "source": [
    "import numpy as np\n",
    "import pandas as pd\n",
    "from matplotlib import pyplot as plt"
   ]
  },
  {
   "cell_type": "code",
   "execution_count": 2,
   "metadata": {},
   "outputs": [],
   "source": [
    "df_train = pd.read_csv('data/train.csv')\n",
    "df_train = df_train[['id', 'reading score', 'writing score', 'math score']]"
   ]
  },
  {
   "cell_type": "code",
   "execution_count": 13,
   "metadata": {},
   "outputs": [
    {
     "name": "stdout",
     "output_type": "stream",
     "text": [
      "<class 'pandas.core.frame.DataFrame'>\n",
      "RangeIndex: 750 entries, 0 to 749\n",
      "Data columns (total 4 columns):\n",
      "id               750 non-null int64\n",
      "reading score    750 non-null int64\n",
      "writing score    750 non-null int64\n",
      "math score       750 non-null int64\n",
      "dtypes: int64(4)\n",
      "memory usage: 23.5 KB\n"
     ]
    }
   ],
   "source": [
    "ip_mat = df_train.values[:, 1:]\n",
    "ip_mat.dtype = np.float\n",
    "df_train.info()"
   ]
  },
  {
   "cell_type": "code",
   "execution_count": 4,
   "metadata": {},
   "outputs": [],
   "source": [
    "\n",
    "def sigmoid(x):\n",
    "    return 1 / (1 + np.exp(-x))\n",
    "\n",
    "\n",
    "def step_fuc(x):\n",
    "    return 1 if x > 0 else 0 if x == 0 else -1"
   ]
  },
  {
   "cell_type": "code",
   "execution_count": 41,
   "metadata": {},
   "outputs": [],
   "source": [
    "class PCA(object):\n",
    "    \n",
    "    \n",
    "    def fit(self, X, n_components):\n",
    "        n_samples, n_features = X.shape\n",
    "        \n",
    "        self.mean_ = np.mean(X, axis=0)\n",
    "        X -= self.mean_\n",
    "        \n",
    "        #X = U*S*V^T\n",
    "        #注意下方S是上方S主对角线上元素\n",
    "        U, S, V = np.linalg.svd(X, full_matrices=False)\n",
    "        \n",
    "        explained_variance_ = (S ** 2) / (n_samples - 1)\n",
    "        total_var = explained_variance_.sum()\n",
    "        explained_variance_ratio_ = explained_variance_ / total_var\n",
    "        singular_values_ = S.copy()\n",
    "        \n",
    "        components_ = V\n",
    "        \n",
    "        self.n_samples_, self.n_features_ = n_samples, n_features\n",
    "        self.components_ = components_[:n_components]\n",
    "        self.n_components_ = n_components\n",
    "        self.explained_variance_ = explained_variance_[:n_components]\n",
    "        self.explained_variance_ratio_ = \\\n",
    "            explained_variance_ratio_[:n_components]\n",
    "        self.singular_values_ = singular_values_[:n_components]\n",
    "\n",
    "        return U, S, V\n",
    "    \n",
    "    \n",
    "    def transform(self, X):\n",
    "        \n",
    "        X -= self.mean_\n",
    "        \n",
    "        print('transform: X.shape is {0} \\ncomponents shape is {1}'.format(X.shape, self.components_.shape))\n",
    "        red_x = np.dot(X, self.components_.T)\n",
    "        \n",
    "        return red_x\n",
    "    \n",
    "    def fit_transform(self, X, n_components):\n",
    "        \n",
    "        U, S, V = self.fit(X, n_components)\n",
    "        U = U[:, :self.n_components_]\n",
    "        print('fit_transform U S V shape is {0}, {1}, {2}'.format(U.shape, S.shape, V.shape))\n",
    "        \n",
    "        #red_x = X * V = U*S*V^T  * V = U*S\n",
    "        red_x = U * S[:n_components]\n",
    "        \n",
    "        return red_x\n",
    "    \n",
    "    \n",
    "    def decomposition_cov(self, X, n_components):\n",
    "        \n",
    "        x_mean_ = np.mean(X, axis=0)\n",
    "        X -= x_mean_\n",
    "        \n",
    "        x_cov = np.cov(X, rowvar=0)\n",
    "        \n",
    "        #对比array和mat的乘法\n",
    "        eig_vals, eig_vects = np.linalg.eig(np.mat(x_cov))\n",
    "        \n",
    "        eig_vals_idx = np.argsort(eig_vals)\n",
    "        eig_vals_idx = eig_vals_idx[:-(n_components+1):-1]\n",
    "        \n",
    "        self.eig_vals  = eig_vals[eig_vals_idx]\n",
    "        self.eig_vects = eig_vects[:, eig_vals_idx]\n",
    "        \n",
    "        red_x = X * self.eig_vects\n",
    "        \n",
    "        return red_x\n",
    "        \n",
    "        \n",
    "        "
   ]
  },
  {
   "cell_type": "code",
   "execution_count": 42,
   "metadata": {},
   "outputs": [],
   "source": [
    "#cmp\n",
    "from sklearn.decomposition import PCA as skl_PCA\n",
    "\n",
    "\n",
    "pca = PCA()\n",
    "skl_pca = skl_PCA()"
   ]
  },
  {
   "cell_type": "code",
   "execution_count": 43,
   "metadata": {},
   "outputs": [
    {
     "name": "stdout",
     "output_type": "stream",
     "text": [
      "fit_transform U S V shape is (750, 2), (3,), (3, 3)\n",
      "transform: X.shape is (750, 3) \n",
      "components shape is (2, 3)\n"
     ]
    },
    {
     "name": "stderr",
     "output_type": "stream",
     "text": [
      "/usr/local/lib/python3.7/site-packages/ipykernel_launcher.py:16: RuntimeWarning: invalid value encountered in true_divide\n",
      "  app.launch_new_instance()\n",
      "/usr/local/lib/python3.7/site-packages/sklearn/decomposition/pca.py:447: RuntimeWarning: invalid value encountered in true_divide\n",
      "  explained_variance_ratio_ = explained_variance_ / total_var\n",
      "/usr/local/lib/python3.7/site-packages/sklearn/decomposition/pca.py:447: RuntimeWarning: invalid value encountered in true_divide\n",
      "  explained_variance_ratio_ = explained_variance_ / total_var\n"
     ]
    }
   ],
   "source": [
    "test_components = 2\n",
    "\n",
    "x_1 = pca.fit_transform(ip_mat, test_components)\n",
    "\n",
    "pca.fit(ip_mat, test_components)\n",
    "x_2 = pca.transform(ip_mat)\n",
    "\n",
    "x_3 = pca.decomposition_cov(ip_mat, test_components)\n",
    "\n",
    "x_4 = skl_pca.fit_transform(ip_mat, test_components)\n",
    "\n",
    "skl_pca.fit(ip_mat, test_components)\n",
    "x_5 = skl_pca.transform(ip_mat)"
   ]
  },
  {
   "cell_type": "code",
   "execution_count": 44,
   "metadata": {},
   "outputs": [
    {
     "data": {
      "text/plain": [
       "(array([[-9.9e-323,  2.0e-323],\n",
       "        [-4.4e-323, -1.5e-323],\n",
       "        [ 5.9e-323, -1.5e-323],\n",
       "        ...,\n",
       "        [ 4.4e-323,  3.0e-323],\n",
       "        [ 9.4e-323,  4.0e-323],\n",
       "        [ 3.0e-323,  9.9e-324]]), array([[-9.9e-323,  2.0e-323],\n",
       "        [-4.4e-323, -1.5e-323],\n",
       "        [ 5.4e-323, -1.5e-323],\n",
       "        ...,\n",
       "        [ 4.4e-323,  2.5e-323],\n",
       "        [ 8.9e-323,  4.0e-323],\n",
       "        [ 3.0e-323,  9.9e-324]]), matrix([[-4.0e-323, -7.4e-323],\n",
       "         [-4.0e-323, -3.0e-323],\n",
       "         [ 2.0e-323,  4.9e-323],\n",
       "         ...,\n",
       "         [ 4.9e-323,  2.0e-323],\n",
       "         [ 8.4e-323,  2.5e-323],\n",
       "         [ 2.5e-323,  0.0e+000]]), array([[ 9.9e-323,  2.0e-323, -9.9e-324],\n",
       "        [ 4.4e-323, -1.5e-323, -1.5e-323],\n",
       "        [-5.9e-323, -1.5e-323,  9.9e-324],\n",
       "        ...,\n",
       "        [-4.4e-323,  3.0e-323,  9.9e-324],\n",
       "        [-9.4e-323,  4.0e-323, -2.0e-323],\n",
       "        [-3.0e-323,  9.9e-324, -1.5e-323]]), array([[ 9.9e-323,  2.0e-323, -4.9e-324],\n",
       "        [ 4.4e-323, -1.5e-323, -1.5e-323],\n",
       "        [-5.4e-323, -1.5e-323,  1.5e-323],\n",
       "        ...,\n",
       "        [-4.4e-323,  2.5e-323,  9.9e-324],\n",
       "        [-8.9e-323,  4.0e-323, -2.0e-323],\n",
       "        [-3.0e-323,  9.9e-324, -2.0e-323]]))"
      ]
     },
     "execution_count": 44,
     "metadata": {},
     "output_type": "execute_result"
    }
   ],
   "source": [
    "x_1, x_2, x_3, x_4, x_5"
   ]
  },
  {
   "cell_type": "code",
   "execution_count": null,
   "metadata": {},
   "outputs": [],
   "source": []
  }
 ],
 "metadata": {
  "kernelspec": {
   "display_name": "Python 3",
   "language": "python",
   "name": "python3"
  },
  "language_info": {
   "codemirror_mode": {
    "name": "ipython",
    "version": 3
   },
   "file_extension": ".py",
   "mimetype": "text/x-python",
   "name": "python",
   "nbconvert_exporter": "python",
   "pygments_lexer": "ipython3",
   "version": "3.7.3"
  }
 },
 "nbformat": 4,
 "nbformat_minor": 2
}
